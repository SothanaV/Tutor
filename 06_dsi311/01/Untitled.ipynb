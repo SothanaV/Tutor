{
 "cells": [
  {
   "cell_type": "code",
   "execution_count": 1,
   "metadata": {},
   "outputs": [],
   "source": [
    "import numpy as np \n",
    "import math"
   ]
  },
  {
   "cell_type": "code",
   "execution_count": 2,
   "metadata": {},
   "outputs": [],
   "source": [
    "data = np.loadtxt('iris.data', delimiter=',', usecols=(0,1)) \n",
    "target = np.loadtxt('iris.data', delimiter=',', usecols=(4), dtype='str')"
   ]
  },
  {
   "cell_type": "code",
   "execution_count": 78,
   "metadata": {},
   "outputs": [],
   "source": [
    "def get_data_stat(data, target): \n",
    "    \"\"\"  \n",
    "    Compute mu and sigma of each class  \n",
    "    Input:  data = N-D array of data, each row is the instance, each column is the attribute. \n",
    "            target = 1-D array indicating the class of each row in data \n",
    "    Output: mu = 2-D array of mean value of each class and each attribute \n",
    "            sigma = 2-D array of std of each class and each attribute \n",
    "    \"\"\" \n",
    "    classes = np.unique(target) \n",
    "    mu = [] \n",
    "    sigma = [] \n",
    "    for c in classes: \n",
    "        mu.append(data[target==c].mean(axis=0)) \n",
    "        sigma.append(data[target==c].std(axis=0)) \n",
    "    return np.array(mu), np.array(sigma) \n",
    " \n",
    "def normaldist(x, mu, sigma, eps=1e-15): \n",
    "    \"\"\"  \n",
    "    Compute probability following the normal distribution \n",
    "    Input:  x = 1-D array feature vector of an instance. \n",
    "            mu = 2-D array of mean value of each class and each attribute \n",
    "            sigma = 2-D array of std of each class and each attribute \n",
    "    Output: the probability of x following the normal distribution \n",
    "    \"\"\" \n",
    "    denom = 1 / ( sigma * math.sqrt(2*math.pi) + eps ) \n",
    "    return denom * math.exp(-0.5*((x - mu) / (sigma + eps))**2) \n",
    " \n",
    "\n",
    "def get_prior(data, target): \n",
    "    \"\"\"  \n",
    "    Compute the prior probability \n",
    "    Input:  data = N-D array of data, each row is the instance, each column is the attribute. \n",
    "            target = 1-D array indicating the class of each row in data \n",
    "    Output: prior = 1-D array of prior probability of each class \n",
    "    \"\"\" \n",
    "    mu, sigma = get_data_stat(data, target) \n",
    "    exponent = math.exp(-((data[0][0]-mu[0][0])**2 / (2 * sigma[0][0]**2 )))\n",
    "    return (1 / (math.sqrt(2 * math.pi) * sigma[0][0])) * exponent\n",
    "\n",
    "\n",
    "\n",
    "def get_likelihood(sample, mu, sigma): \n",
    "    \"\"\"  \n",
    "    Compute the likelihood probability \n",
    "    Input:  sample = 1-D array feature vector of an instance. \n",
    "            mu = 2-D array of mean value of each class and each attribute \n",
    "            sigma = 2-D array of std of each class and each attribute \n",
    "    Output: likelihood = 1-D array of likelihood probability of the instance being in each class \n",
    "    \"\"\" \n",
    "    pass "
   ]
  },
  {
   "cell_type": "code",
   "execution_count": 73,
   "metadata": {},
   "outputs": [
    {
     "data": {
      "text/plain": [
       "array([[0.121764, 0.142276],\n",
       "       [0.261104, 0.0965  ],\n",
       "       [0.396256, 0.101924]])"
      ]
     },
     "execution_count": 73,
     "metadata": {},
     "output_type": "execute_result"
    }
   ],
   "source": [
    "sigma**2"
   ]
  },
  {
   "cell_type": "code",
   "execution_count": 74,
   "metadata": {},
   "outputs": [],
   "source": [
    "# compute the required stats \n",
    "mu, sigma = get_data_stat(data, target) "
   ]
  },
  {
   "cell_type": "code",
   "execution_count": 80,
   "metadata": {},
   "outputs": [
    {
     "data": {
      "text/plain": [
       "1.10253649696988"
      ]
     },
     "execution_count": 80,
     "metadata": {},
     "output_type": "execute_result"
    }
   ],
   "source": [
    "prior = get_prior(data, target) \n",
    "prior"
   ]
  },
  {
   "cell_type": "code",
   "execution_count": 10,
   "metadata": {},
   "outputs": [
    {
     "name": "stdout",
     "output_type": "stream",
     "text": [
      "[[5.006 3.418]\n",
      " [5.936 2.77 ]\n",
      " [6.588 2.974]] [[0.34894699 0.37719491]\n",
      " [0.51098337 0.31064449]\n",
      " [0.62948868 0.31925538]]\n",
      "3\n",
      "3\n",
      "3\n",
      "3\n"
     ]
    },
    {
     "ename": "TypeError",
     "evalue": "unsupported operand type(s) for *: 'NoneType' and 'NoneType'",
     "output_type": "error",
     "traceback": [
      "\u001b[0;31m---------------------------------------------------------------------------\u001b[0m",
      "\u001b[0;31mTypeError\u001b[0m                                 Traceback (most recent call last)",
      "\u001b[0;32m<ipython-input-10-1a29d8a9e190>\u001b[0m in \u001b[0;36m<module>\u001b[0;34m\u001b[0m\n\u001b[1;32m     16\u001b[0m \u001b[0;32mfor\u001b[0m \u001b[0mx\u001b[0m \u001b[0;32min\u001b[0m \u001b[0msamples\u001b[0m\u001b[0;34m:\u001b[0m\u001b[0;34m\u001b[0m\u001b[0;34m\u001b[0m\u001b[0m\n\u001b[1;32m     17\u001b[0m     \u001b[0mlikelihood\u001b[0m \u001b[0;34m=\u001b[0m \u001b[0mget_likelihood\u001b[0m\u001b[0;34m(\u001b[0m\u001b[0mx\u001b[0m\u001b[0;34m,\u001b[0m \u001b[0mmu\u001b[0m\u001b[0;34m,\u001b[0m \u001b[0msigma\u001b[0m\u001b[0;34m)\u001b[0m\u001b[0;34m\u001b[0m\u001b[0;34m\u001b[0m\u001b[0m\n\u001b[0;32m---> 18\u001b[0;31m     \u001b[0midx\u001b[0m \u001b[0;34m=\u001b[0m \u001b[0mnp\u001b[0m\u001b[0;34m.\u001b[0m\u001b[0margmax\u001b[0m\u001b[0;34m(\u001b[0m\u001b[0mlikelihood\u001b[0m \u001b[0;34m*\u001b[0m \u001b[0mprior\u001b[0m\u001b[0;34m)\u001b[0m\u001b[0;34m\u001b[0m\u001b[0;34m\u001b[0m\u001b[0m\n\u001b[0m\u001b[1;32m     19\u001b[0m     \u001b[0mprint\u001b[0m\u001b[0;34m(\u001b[0m\u001b[0mclasses\u001b[0m\u001b[0;34m[\u001b[0m\u001b[0midx\u001b[0m\u001b[0;34m]\u001b[0m\u001b[0;34m)\u001b[0m\u001b[0;34m\u001b[0m\u001b[0;34m\u001b[0m\u001b[0m\n",
      "\u001b[0;31mTypeError\u001b[0m: unsupported operand type(s) for *: 'NoneType' and 'NoneType'"
     ]
    }
   ],
   "source": [
    "\n",
    "classes = np.unique(target) \n",
    "\n",
    "print(mu, sigma) \n",
    "\n",
    "# read the samples that we want to predict from console \n",
    "n = int(input()) \n",
    "samples = np.zeros((n,2)) \n",
    "for i in range(n): \n",
    "    b = input() \n",
    "    samples[i] = [float(j) for j in b.split()] \n",
    "\n",
    "# make the prediction using naive bayes, and print class name on console \n",
    "for x in samples: \n",
    "    likelihood = get_likelihood(x, mu, sigma) \n",
    "    idx = np.argmax(likelihood * prior) \n",
    "    print(classes[idx])"
   ]
  },
  {
   "cell_type": "code",
   "execution_count": 48,
   "metadata": {},
   "outputs": [],
   "source": []
  },
  {
   "cell_type": "code",
   "execution_count": null,
   "metadata": {},
   "outputs": [],
   "source": []
  }
 ],
 "metadata": {
  "kernelspec": {
   "display_name": "Python 3",
   "language": "python",
   "name": "python3"
  },
  "language_info": {
   "codemirror_mode": {
    "name": "ipython",
    "version": 3
   },
   "file_extension": ".py",
   "mimetype": "text/x-python",
   "name": "python",
   "nbconvert_exporter": "python",
   "pygments_lexer": "ipython3",
   "version": "3.7.6"
  }
 },
 "nbformat": 4,
 "nbformat_minor": 2
}
