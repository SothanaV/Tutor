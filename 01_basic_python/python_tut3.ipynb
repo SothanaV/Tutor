{
 "cells": [
  {
   "cell_type": "markdown",
   "metadata": {},
   "source": [
    "## Python Workshop3\n",
    "use Libary get post push patch delete"
   ]
  },
  {
   "cell_type": "code",
   "execution_count": 72,
   "metadata": {},
   "outputs": [],
   "source": [
    "import requests\n",
    "import json"
   ]
  },
  {
   "cell_type": "code",
   "execution_count": 81,
   "metadata": {},
   "outputs": [],
   "source": [
    "url = 'http://localhost:8000/user/'"
   ]
  },
  {
   "cell_type": "markdown",
   "metadata": {},
   "source": [
    "### Get"
   ]
  },
  {
   "cell_type": "code",
   "execution_count": 74,
   "metadata": {},
   "outputs": [
    {
     "data": {
      "text/plain": [
       "[{'id': 1,\n",
       "  'name': 'Sothana',\n",
       "  'lastname': 'vicharueang',\n",
       "  'age': 20,\n",
       "  'tel': '0805267718'},\n",
       " {'id': 3,\n",
       "  'name': 'saran',\n",
       "  'lastname': 'wild',\n",
       "  'age': 21,\n",
       "  'tel': '0999999999'}]"
      ]
     },
     "execution_count": 74,
     "metadata": {},
     "output_type": "execute_result"
    }
   ],
   "source": [
    "res = requests.get(url).json()\n",
    "res"
   ]
  },
  {
   "cell_type": "markdown",
   "metadata": {},
   "source": [
    "### Post"
   ]
  },
  {
   "cell_type": "code",
   "execution_count": 75,
   "metadata": {},
   "outputs": [],
   "source": [
    "post = requests.post(url,{\n",
    "    \"name\": \"saran\",\n",
    "    \"lastname\": \"wild\",\n",
    "    \"age\": 21,\n",
    "    \"tel\": \"0999999999\"})"
   ]
  },
  {
   "cell_type": "code",
   "execution_count": 76,
   "metadata": {},
   "outputs": [
    {
     "data": {
      "text/plain": [
       "<Response [201]>"
      ]
     },
     "execution_count": 76,
     "metadata": {},
     "output_type": "execute_result"
    }
   ],
   "source": [
    "post"
   ]
  },
  {
   "cell_type": "code",
   "execution_count": 77,
   "metadata": {},
   "outputs": [
    {
     "data": {
      "text/plain": [
       "[{'id': 1,\n",
       "  'name': 'Sothana',\n",
       "  'lastname': 'vicharueang',\n",
       "  'age': 20,\n",
       "  'tel': '0805267718'},\n",
       " {'id': 3,\n",
       "  'name': 'saran',\n",
       "  'lastname': 'wild',\n",
       "  'age': 21,\n",
       "  'tel': '0999999999'},\n",
       " {'id': 4,\n",
       "  'name': 'saran',\n",
       "  'lastname': 'wild',\n",
       "  'age': 21,\n",
       "  'tel': '0999999999'}]"
      ]
     },
     "execution_count": 77,
     "metadata": {},
     "output_type": "execute_result"
    }
   ],
   "source": [
    "res = requests.get(url).json()\n",
    "res"
   ]
  },
  {
   "cell_type": "markdown",
   "metadata": {},
   "source": [
    "### Push"
   ]
  },
  {
   "cell_type": "code",
   "execution_count": 89,
   "metadata": {},
   "outputs": [
    {
     "data": {
      "text/plain": [
       "'http://localhost:8000/user/1/'"
      ]
     },
     "execution_count": 89,
     "metadata": {},
     "output_type": "execute_result"
    }
   ],
   "source": [
    "url+str(res[0]['id'])+\"/\""
   ]
  },
  {
   "cell_type": "code",
   "execution_count": 91,
   "metadata": {},
   "outputs": [
    {
     "data": {
      "text/plain": [
       "<Response [200]>"
      ]
     },
     "execution_count": 91,
     "metadata": {},
     "output_type": "execute_result"
    }
   ],
   "source": [
    "put = requests.put(url+str(res[0]['id'])+\"/\",{\n",
    "    \"id\": 1,\n",
    "    \"name\": \"Sothana\",\n",
    "    \"lastname\": \"vicharueang\",\n",
    "    \"age\": 20,\n",
    "    \"tel\": \"0948750055\"\n",
    "})\n",
    "put"
   ]
  },
  {
   "cell_type": "code",
   "execution_count": 92,
   "metadata": {},
   "outputs": [
    {
     "data": {
      "text/plain": [
       "[{'id': 1,\n",
       "  'name': 'Sothana',\n",
       "  'lastname': 'vicharueang',\n",
       "  'age': 20,\n",
       "  'tel': '0948750055'},\n",
       " {'id': 3,\n",
       "  'name': 'saran',\n",
       "  'lastname': 'wild',\n",
       "  'age': 21,\n",
       "  'tel': '0999999999'},\n",
       " {'id': 4,\n",
       "  'name': 'saran',\n",
       "  'lastname': 'wild',\n",
       "  'age': 21,\n",
       "  'tel': '0999999999'}]"
      ]
     },
     "execution_count": 92,
     "metadata": {},
     "output_type": "execute_result"
    }
   ],
   "source": [
    "res = requests.get(url).json()\n",
    "res"
   ]
  },
  {
   "cell_type": "markdown",
   "metadata": {},
   "source": [
    "### Patch"
   ]
  },
  {
   "cell_type": "code",
   "execution_count": 94,
   "metadata": {},
   "outputs": [
    {
     "data": {
      "text/plain": [
       "<Response [200]>"
      ]
     },
     "execution_count": 94,
     "metadata": {},
     "output_type": "execute_result"
    }
   ],
   "source": [
    "patch = requests.patch(url+str(res[1]['id'])+\"/\",{\n",
    "    \"name\": \"Job\",\n",
    "    \"lastname\": \"Saran\",\n",
    "    \"age\": 19,\n",
    "    \"tel\": \"0999999999\"\n",
    "})\n",
    "patch"
   ]
  },
  {
   "cell_type": "code",
   "execution_count": 95,
   "metadata": {},
   "outputs": [
    {
     "data": {
      "text/plain": [
       "[{'id': 1,\n",
       "  'name': 'Sothana',\n",
       "  'lastname': 'vicharueang',\n",
       "  'age': 20,\n",
       "  'tel': '0948750055'},\n",
       " {'id': 3, 'name': 'Job', 'lastname': 'Saran', 'age': 19, 'tel': '0999999999'},\n",
       " {'id': 4,\n",
       "  'name': 'saran',\n",
       "  'lastname': 'wild',\n",
       "  'age': 21,\n",
       "  'tel': '0999999999'}]"
      ]
     },
     "execution_count": 95,
     "metadata": {},
     "output_type": "execute_result"
    }
   ],
   "source": [
    "res = requests.get(url).json()\n",
    "res"
   ]
  },
  {
   "cell_type": "markdown",
   "metadata": {},
   "source": [
    "### Delete"
   ]
  },
  {
   "cell_type": "code",
   "execution_count": 96,
   "metadata": {},
   "outputs": [
    {
     "data": {
      "text/plain": [
       "<Response [204]>"
      ]
     },
     "execution_count": 96,
     "metadata": {},
     "output_type": "execute_result"
    }
   ],
   "source": [
    "delete = requests.delete(url+str(res[1]['id'])+\"/\")\n",
    "delete"
   ]
  },
  {
   "cell_type": "code",
   "execution_count": 97,
   "metadata": {},
   "outputs": [
    {
     "data": {
      "text/plain": [
       "[{'id': 1,\n",
       "  'name': 'Sothana',\n",
       "  'lastname': 'vicharueang',\n",
       "  'age': 20,\n",
       "  'tel': '0948750055'},\n",
       " {'id': 4,\n",
       "  'name': 'saran',\n",
       "  'lastname': 'wild',\n",
       "  'age': 21,\n",
       "  'tel': '0999999999'}]"
      ]
     },
     "execution_count": 97,
     "metadata": {},
     "output_type": "execute_result"
    }
   ],
   "source": [
    "res = requests.get(url).json()\n",
    "res"
   ]
  },
  {
   "cell_type": "code",
   "execution_count": null,
   "metadata": {},
   "outputs": [],
   "source": []
  }
 ],
 "metadata": {
  "kernelspec": {
   "display_name": "Python 3",
   "language": "python",
   "name": "python3"
  },
  "language_info": {
   "codemirror_mode": {
    "name": "ipython",
    "version": 3
   },
   "file_extension": ".py",
   "mimetype": "text/x-python",
   "name": "python",
   "nbconvert_exporter": "python",
   "pygments_lexer": "ipython3",
   "version": "3.6.8"
  }
 },
 "nbformat": 4,
 "nbformat_minor": 2
}
