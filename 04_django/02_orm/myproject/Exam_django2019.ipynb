{
 "cells": [
  {
   "cell_type": "markdown",
   "metadata": {},
   "source": [
    "# Midtern Exam \n",
    "* Duration: 120 minustes\n",
    "* Maximum 40 marks\n",
    "\n",
    "## Q1 How many transactions in the dataset?\n",
    "\n",
    "## Q2 What is the top-3 most expensive item in the database? \n",
    "* show the price of item.\n",
    "\n",
    "## Q3 Show number of customers were born in each month.\n",
    "* there are 12 months\n",
    "\n",
    "## Q4 Show top-3 popular items that make most income.\n",
    "* show the total income of each item.\n",
    "\n",
    "## Q5 A manager want to crate a birth-month promotion in January 2017.\n",
    "* How many customers were born in January and also made transcations in January 2017?\n",
    "\n",
    "## Q6 In January, what were the top-3 favorite items that customer bought with \"Bread\"?\n",
    "* show number of times\n",
    "\n",
    "## Q7 Who are the top-3 customers that pay most money for \"Tea\"? \n",
    "* show total payment of each customer.\n",
    "\n",
    "## Q8 What are the top-5 items that \"Harry Brown\" pay most money? \n",
    "* show total payment of each item.\n",
    "\n",
    "## Q9 Who are top-5 customer paid most money in 2016? \n",
    "* show total payment of each customer\n",
    "\n",
    "## Q10 Between January and March 2017, Who are top-3 customers that paid most for Coffee?\n",
    "* show total payment"
   ]
  },
  {
   "cell_type": "code",
   "execution_count": 1,
   "metadata": {},
   "outputs": [],
   "source": [
    "from myapp.models import Customer,Transaction,Item,Record"
   ]
  },
  {
   "cell_type": "code",
   "execution_count": 2,
   "metadata": {},
   "outputs": [],
   "source": [
    "import pandas as pd"
   ]
  },
  {
   "cell_type": "code",
   "execution_count": null,
   "metadata": {},
   "outputs": [],
   "source": []
  },
  {
   "cell_type": "code",
   "execution_count": 4,
   "metadata": {},
   "outputs": [],
   "source": [
    "#Q1 How many transactions in the dataset?"
   ]
  },
  {
   "cell_type": "code",
   "execution_count": 292,
   "metadata": {},
   "outputs": [],
   "source": [
    "#Q2 What is the top-3 most expensive item in the database?"
   ]
  },
  {
   "cell_type": "code",
   "execution_count": 295,
   "metadata": {},
   "outputs": [],
   "source": [
    "#Q3 Show number of customers were born in each month."
   ]
  },
  {
   "cell_type": "code",
   "execution_count": 299,
   "metadata": {},
   "outputs": [],
   "source": [
    "#Q4 Show top-3 popular items that make most income."
   ]
  },
  {
   "cell_type": "code",
   "execution_count": 302,
   "metadata": {},
   "outputs": [],
   "source": [
    "#Q5 A manager want to crate a birth-month promotion in January 2017.\n",
    "##How many customers were born in January and also made transcations in January 2017?"
   ]
  },
  {
   "cell_type": "code",
   "execution_count": 305,
   "metadata": {},
   "outputs": [],
   "source": [
    "#Q6 In January, what were the top-3 favorite items that customer bought with \"Bread\"?\n",
    "##show number of times"
   ]
  },
  {
   "cell_type": "code",
   "execution_count": 308,
   "metadata": {},
   "outputs": [],
   "source": [
    "#Q7 Who are the top-3 customers that pay most money for \"Tea\"?\n",
    "##show total payment of each customer."
   ]
  },
  {
   "cell_type": "code",
   "execution_count": 311,
   "metadata": {},
   "outputs": [],
   "source": [
    "#Q8 What are the top-5 items that \"Harry Brown\" pay most money?\n",
    "##show total payment of each item."
   ]
  },
  {
   "cell_type": "code",
   "execution_count": 314,
   "metadata": {},
   "outputs": [],
   "source": [
    "#Q9 Who are top-5 customer paid most money in 2016?\n",
    "##show total payment of each customer"
   ]
  },
  {
   "cell_type": "code",
   "execution_count": 317,
   "metadata": {},
   "outputs": [],
   "source": [
    "#Q10 Between January and March 2017, Who are top-3 customers that paid most for Coffee?\n",
    "##show total payment"
   ]
  }
 ],
 "metadata": {
  "kernelspec": {
   "display_name": "Django Shell-Plus",
   "language": "python",
   "name": "django_extensions"
  },
  "language_info": {
   "codemirror_mode": {
    "name": "ipython",
    "version": 3
   },
   "file_extension": ".py",
   "mimetype": "text/x-python",
   "name": "python",
   "nbconvert_exporter": "python",
   "pygments_lexer": "ipython3",
   "version": "3.6.8"
  }
 },
 "nbformat": 4,
 "nbformat_minor": 2
}
